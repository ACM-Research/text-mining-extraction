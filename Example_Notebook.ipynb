{
  "nbformat": 4,
  "nbformat_minor": 0,
  "metadata": {
    "colab": {
      "name": "Example Notebook.ipynb",
      "provenance": [],
      "authorship_tag": "ABX9TyM0qaEzlv7Y1yGqHHo2tUXC",
      "include_colab_link": true
    },
    "kernelspec": {
      "name": "python3",
      "display_name": "Python 3"
    }
  },
  "cells": [
    {
      "cell_type": "markdown",
      "metadata": {
        "id": "view-in-github",
        "colab_type": "text"
      },
      "source": [
        "<a href=\"https://colab.research.google.com/github/ACM-Research/text-mining-extraction/blob/main/Example_Notebook.ipynb\" target=\"_parent\"><img src=\"https://colab.research.google.com/assets/colab-badge.svg\" alt=\"Open In Colab\"/></a>"
      ]
    },
    {
      "cell_type": "code",
      "metadata": {
        "colab": {
          "base_uri": "https://localhost:8080/"
        },
        "id": "vTCUkabhhEQ7",
        "outputId": "0a5c28bf-2977-4ca1-9987-8418654a2a9c"
      },
      "source": [
        "print(\"This is an example for testing the Colab to GitHub pipeline.\")"
      ],
      "execution_count": 2,
      "outputs": [
        {
          "output_type": "stream",
          "text": [
            "This is an example for testing the Colab to GitHub pipeline.\n"
          ],
          "name": "stdout"
        }
      ]
    }
  ]
}